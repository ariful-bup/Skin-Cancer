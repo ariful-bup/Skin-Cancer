
{
 "cells": [
  {
   "cell_type": "code",
   "execution_count": 79,
   "id": "836064da-b165-4e70-92ab-f4c4acdd8ede",
   "metadata": {},
   "outputs": [],
   "source": [
    "import random\n",
    "import os\n",
    "import glob\n",
    "import time\n",
    "\n",
    "import pandas as pd\n",
    "import numpy as np\n",
    "import matplotlib.pyplot as plt\n",
    "import seaborn as sns\n",
    "\n",
    "import tensorflow as tf\n",
    "import tensorflow_hub as hub\n",
    "from tensorflow.keras import layers, Sequential\n",
    "from tensorflow.keras.utils import plot_model\n",
    "\n",
    "import sklearn\n",
    "from sklearn.model_selection import train_test_split\n",
    "from sklearn.metrics import (\n",
    "    accuracy_score, f1_score, matthews_corrcoef,\n",
    "    confusion_matrix, ConfusionMatrixDisplay,\n",
    "    classification_report, precision_recall_fscore_support\n",
    ")\n",
    "from scikitplot.metrics import plot_roc"
   ]
  },
  {
   "cell_type": "code",
   "execution_count": null,
   "id": "b8b9543f-6e55-4985-9ce5-f4c8a5de0bad",
   "metadata": {},
   "outputs": [],
   "source": []
  },
  {
   "cell_type": "code",
   "execution_count": 80,
   "id": "11b303c4-3cda-4bbd-bfc9-e339eda5eaaa",
   "metadata": {},
   "outputs": [],
   "source": [
    "class CFG:\n",
    "    EPOCHS = 10\n",
    "    BATCH_SIZE = 32\n",
    "    SEED = 42\n",
    "    TF_SEED = 768\n",
    "    HEIGHT = 224\n",
    "    WIDTH = 224\n",
    "    CHANNELS = 3\n",
    "    IMAGE_SIZE = (224, 224, 3)"
   ]
  },
  {
   "cell_type": "code",
   "execution_count": 81,
   "id": "fa3b5961-b7bc-4533-b7fc-e1f342bdff9b",
   "metadata": {},
   "outputs": [],
   "source": [
    "def seed_everything(seed=CFG.SEED):\n",
    "    random.seed(seed)\n",
    "    np.random.seed(seed)\n",
    "    tf.random.set_seed(seed)\n",
    "\n",
    "seed_everything(CFG.SEED)"
   ]
  },
  {
   "cell_type": "markdown",
   "id": "3810657c-eb62-4388-aadb-e2d547bc9c8b",
   "metadata": {},
   "source": [
    "Inspecting The Dataset"
   ]
  },
  {
   "cell_type": "code",
   "execution_count": 82,
   "id": "86c4e6e2-b2c8-40eb-9d47-e7389fdf503d",
   "metadata": {},
   "outputs": [],
   "source": [
    "# Define paths\n",
    "DATASET_PATH = \"F:/Arif/Skin_ISIC_Cancer/ISIC/data\"\n",
    "TRAIN_PATH = 'F:/Arif/Skin_ISIC_Cancer/ISIC/data/train'\n",
    "TEST_PATH = 'F:/Arif/Skin_ISIC_Cancer/ISIC/data/test'"
   ]
  },
  {
   "cell_type": "code",
   "execution_count": 83,
   "id": "e65d4a07-340a-48c5-84eb-37bd8b9efd2d",
   "metadata": {},
   "outputs": [
    {
     "name": "stdout",
     "output_type": "stream",
     "text": [
      "DATASET SUMMARY\n",
      "========================\n",
      "\n",
      "There are 2 directories and 0 images in F:/Arif/Skin_ISIC_Cancer/ISIC/data\n",
      "There are 2 directories and 0 images in F:/Arif/Skin_ISIC_Cancer/ISIC/data\\test\n",
      "There are 0 directories and 360 images in F:/Arif/Skin_ISIC_Cancer/ISIC/data\\test\\benign\n",
      "There are 0 directories and 300 images in F:/Arif/Skin_ISIC_Cancer/ISIC/data\\test\\malignant\n",
      "There are 2 directories and 0 images in F:/Arif/Skin_ISIC_Cancer/ISIC/data\\train\n",
      "There are 0 directories and 1440 images in F:/Arif/Skin_ISIC_Cancer/ISIC/data\\train\\benign\n",
      "There are 0 directories and 1197 images in F:/Arif/Skin_ISIC_Cancer/ISIC/data\\train\\malignant\n",
      "\n",
      "========================\n"
     ]
    }
   ],
   "source": [
    "# Generate a summary of the dataset\n",
    "print('DATASET SUMMARY')\n",
    "print('========================\\n')\n",
    "for dirpath, dirnames, filenames in os.walk(DATASET_PATH):\n",
    "    print(f\"There are {len(dirnames)} directories and {len(filenames)} images in {dirpath}\")\n",
    "print('\\n========================')"
   ]
  },
  {
   "cell_type": "markdown",
   "id": "573d7508-316e-4dec-b7a5-699350d8c3a1",
   "metadata": {},
   "source": [
    "Get image paths with glob"
   ]
  },
  {
   "cell_type": "code",
   "execution_count": 84,
   "id": "fe14f4fd-746b-42e4-beae-fd4f5c049504",
   "metadata": {},
   "outputs": [
    {
     "name": "stdout",
     "output_type": "stream",
     "text": [
      "CPU times: total: 0 ns\n",
      "Wall time: 999 µs\n"
     ]
    }
   ],
   "source": [
    "%%time\n",
    "train_images = glob.glob(f\"{TRAIN_PATH}**/*.jpg\")\n",
    "test_images = glob.glob(f\"{TEST_PATH}**/*.jpg\")"
   ]
  },
  {
   "cell_type": "code",
   "execution_count": 92,
   "id": "be071a17-0407-40e9-8f59-156cc59f9aa9",
   "metadata": {},
   "outputs": [
    {
     "name": "stdout",
     "output_type": "stream",
     "text": [
      "train samples count:\t\t35\n",
      "test samples count:\t\t34\n",
      "=======================================\n",
      "TOTAL:\t\t\t\t69\n"
     ]
    }
   ],
   "source": [
    "# Get train & test set sizes\n",
    "train_size = len('F:/Arif/Skin_ISIC_Cancer/ISIC/data/train')\n",
    "test_size = len('F:/Arif/Skin_ISIC_Cancer/ISIC/data/test')\n",
    "\n",
    "# Get dataset size\n",
    "total = train_size + test_size\n",
    "\n",
    "# View samples counts\n",
    "print(f'train samples count:\\t\\t{train_size}')\n",
    "print(f'test samples count:\\t\\t{test_size}')\n",
    "print('=======================================')\n",
    "print(f'TOTAL:\\t\\t\\t\\t{total}')"
   ]
  },
  {
   "cell_type": "code",
   "execution_count": 113,
   "id": "af5e4af7-6a99-46c7-9183-0f3407feccb2",
   "metadata": {},
   "outputs": [
    {
     "name": "stdout",
     "output_type": "stream",
     "text": [
      "train samples count:\t\t0\n",
      "test samples count:\t\t0\n",
      "=======================================\n",
      "TOTAL:\t\t\t\t0\n"
     ]
    }
   ],
   "source": [
    "# Define the paths to train and test directories\n",
    "train_path = 'F:/Arif/Skin_ISIC_Cancer/ISIC/data/train'\n",
    "test_path = 'F:/Arif/Skin_ISIC_Cancer/ISIC/data/test'\n",
    "\n",
    "# Get the count of image files in each directory\n",
    "train_size = len([file for file in os.listdir(train_path) if file.endswith('.jpg')])\n",
    "test_size = len([file for file in os.listdir(test_path) if file.endswith('.jpg')])\n",
    "\n",
    "# Calculate the total number of images\n",
    "total = train_size + test_size\n",
    "\n",
    "# Display the counts\n",
    "print(f'train samples count:\\t\\t{train_size}')\n",
    "print(f'test samples count:\\t\\t{test_size}')\n",
    "print('=======================================')\n",
    "print(f'TOTAL:\\t\\t\\t\\t{total}')"
   ]
  },
  {
   "cell_type": "code",
   "execution_count": 93,
   "id": "20af77a1-d688-4aab-895e-019115aadb63",
   "metadata": {},
   "outputs": [],
   "source": [
    "def generate_labels(image_paths):\n",
    "    return [_.split('/')[-2:][0] for _ in image_paths]\n",
    "\n",
    "\n",
    "def build_df(image_paths, labels):\n",
    "    # Create dataframe\n",
    "    df = pd.DataFrame({\n",
    "        'image_path': image_paths,\n",
    "        'label': generate_labels(labels)\n",
    "    })\n",
    "    \n",
    "    # Generate label encodings\n",
    "    df['label_encoded'] = df.apply(lambda row: 0 if row.label == 'malignant' else 1, axis=1)\n",
    "    \n",
    "    # Shuffle and return df\n",
    "    return df.sample(frac=1, random_state=CFG.SEED).reset_index(drop=True)"
   ]
  },
  {
   "cell_type": "code",
   "execution_count": 100,
   "id": "ab06e4b1-8829-4e08-842f-2c0d6a8af9e0",
   "metadata": {},
   "outputs": [],
   "source": [
    "# Build the DataFrames\n",
    "train_df = build_df('F:/Skin_ISIC_Cancer/ISIC/data/train', generate_labels('F:/Skin_ISIC_Cancer/ISIC/data/train'))\n",
    "test_df = build_df('F:/Skin_ISIC_Cancer/ISIC/data/test', generate_labels('F:/Skin_ISIC_Cancer/ISIC/data/test'))"
   ]
  },
  {
   "cell_type": "code",
   "execution_count": 101,
   "id": "f281ff74-caa1-4ef0-bdf0-ed63791050fc",
   "metadata": {},
   "outputs": [
    {
     "data": {
      "text/html": [
       "<div>\n",
       "<style scoped>\n",
       "    .dataframe tbody tr th:only-of-type {\n",
       "        vertical-align: middle;\n",
       "    }\n",
       "\n",
       "    .dataframe tbody tr th {\n",
       "        vertical-align: top;\n",
       "    }\n",
       "\n",
       "    .dataframe thead th {\n",
       "        text-align: right;\n",
       "    }\n",
       "</style>\n",
       "<table border=\"1\" class=\"dataframe\">\n",
       "  <thead>\n",
       "    <tr style=\"text-align: right;\">\n",
       "      <th></th>\n",
       "      <th>image_path</th>\n",
       "      <th>label</th>\n",
       "      <th>label_encoded</th>\n",
       "    </tr>\n",
       "  </thead>\n",
       "  <tbody>\n",
       "    <tr>\n",
       "      <th>0</th>\n",
       "      <td>F:/Arif/Skin_ISIC_Cancer/ISIC/data/train</td>\n",
       "      <td>a</td>\n",
       "      <td>1</td>\n",
       "    </tr>\n",
       "    <tr>\n",
       "      <th>1</th>\n",
       "      <td>F:/Arif/Skin_ISIC_Cancer/ISIC/data/train</td>\n",
       "      <td>C</td>\n",
       "      <td>1</td>\n",
       "    </tr>\n",
       "    <tr>\n",
       "      <th>2</th>\n",
       "      <td>F:/Arif/Skin_ISIC_Cancer/ISIC/data/train</td>\n",
       "      <td></td>\n",
       "      <td>1</td>\n",
       "    </tr>\n",
       "    <tr>\n",
       "      <th>3</th>\n",
       "      <td>F:/Arif/Skin_ISIC_Cancer/ISIC/data/train</td>\n",
       "      <td>S</td>\n",
       "      <td>1</td>\n",
       "    </tr>\n",
       "    <tr>\n",
       "      <th>4</th>\n",
       "      <td>F:/Arif/Skin_ISIC_Cancer/ISIC/data/train</td>\n",
       "      <td>n</td>\n",
       "      <td>1</td>\n",
       "    </tr>\n",
       "  </tbody>\n",
       "</table>\n",
       "</div>"
      ],
      "text/plain": [
       "                            image_path label  label_encoded\n",
       "0  F:/Arif/Skin_ISIC_Cancer/ISIC/data/train     a              1\n",
       "1  F:/Arif/Skin_ISIC_Cancer/ISIC/data/train     C              1\n",
       "2  F:/Arif/Skin_ISIC_Cancer/ISIC/data/train                    1\n",
       "3  F:/Arif/Skin_ISIC_Cancer/ISIC/data/train     S              1\n",
       "4  F:/Arif/Skin_ISIC_Cancer/ISIC/data/train     n              1"
      ]
     },
     "execution_count": 101,
     "metadata": {},
     "output_type": "execute_result"
    }
   ],
   "source": [
    "# View first 5 samples in the training set\n",
    "train_df.head(5)"
   ]
  },
  {
   "cell_type": "code",
   "execution_count": 110,
   "id": "a977f751-9309-4cc8-b018-be941ffc9dee",
   "metadata": {},
   "outputs": [
    {
     "data": {
      "image/png": "[encoded data removed]",
      "text/plain": [
       "<Figure size 1400x1000 with 2 Axes>"
      ]
     },
     "metadata": {},
     "output_type": "display_data"
    }
   ],
   "source": [
    "fig, (ax1, ax2) = plt.subplots(2, figsize=(14, 10))\n",
    "\n",
    "# Set the spacing between subplots\n",
    "fig.tight_layout(pad=6.0)\n",
    "\n",
    "# Plot Train Labels Distribution\n",
    "ax1.set_title('Train Labels Distribution', fontsize=20)\n",
    "train_distribution = train_df['label'].value_counts().sort_values()\n",
    "sns.barplot(x=train_distribution.values,\n",
    "            y=list(train_distribution.keys()),\n",
    "            orient=\"h\",\n",
    "            ax=ax1)\n",
    "\n",
    "# Plot Test Labels Distribution\n",
    "ax2.set_title('Test Labels Distribution', fontsize=20)\n",
    "test_distribution = test_df['label'].value_counts().sort_values()\n",
    "sns.barplot(x=test_distribution.values,\n",
    "            y=list(test_distribution.keys()),\n",
    "            orient=\"h\",\n",
    "            ax=ax2);\n",
    "\n",
    "sns.despine();"
   ]
  },
  {
   "cell_type": "code",
   "execution_count": 111,
   "id": "f677ea79-177f-4c39-94d7-96289adced54",
   "metadata": {},
   "outputs": [],
   "source": [
    "# Create Train/Val split with Training Set\n",
    "train_split_idx, val_split_idx, _, _ = train_test_split(train_df.index, \n",
    "                                                        train_df.label_encoded, \n",
    "                                                        test_size=0.15,\n",
    "                                                        stratify=train_df.label_encoded,\n",
    "                                                        random_state=CFG.SEED)"
   ]
  },
  {
   "cell_type": "code",
   "execution_count": 112,
   "id": "78b2c41b-4f25-4c8e-9a8e-d306a9de9785",
   "metadata": {},
   "outputs": [
    {
     "data": {
      "text/plain": [
       "((29, 3), (6, 3))"
      ]
     },
     "execution_count": 112,
     "metadata": {},
     "output_type": "execute_result"
    }
   ],
   "source": [
    "# Get new training and validation data\n",
    "train_new_df = train_df.iloc[train_split_idx].reset_index(drop=True)\n",
    "val_df = train_df.iloc[val_split_idx].reset_index(drop=True)\n",
    "\n",
    "# View shapes\n",
    "train_new_df.shape, val_df.shape"
   ]
  },
  {
   "cell_type": "code",
   "execution_count": null,
   "id": "236ccbef-8b72-4f2f-aa1a-4dd4805196b1",
   "metadata": {},
   "outputs": [],
   "source": []
  },
  {
   "cell_type": "code",
   "execution_count": null,
   "id": "d70af1c9-13c4-43ff-bd11-4d8f5a581edf",
   "metadata": {},
   "outputs": [],
   "source": []
  },
  {
   "cell_type": "code",
   "execution_count": null,
   "id": "6dc48336-38fc-4b3f-beba-c6029e974c48",
   "metadata": {},
   "outputs": [],
   "source": []
  },
  {
   "cell_type": "code",
   "execution_count": null,
   "id": "27cfb63d-8b06-485d-a1ee-c4c7ec99eabe",
   "metadata": {},
   "outputs": [],
   "source": []
  },
  {
   "cell_type": "code",
   "execution_count": 8,
   "id": "c1a1c528-f8da-4c9a-b8a6-d8cd33bc9fd3",
   "metadata": {},
   "outputs": [],
   "source": [
    "train_ds = 'F:/Skin_ISIC_Cancer/ISIC2018/data/train'\n",
    "test_ds = 'F:/Skin_ISIC_Cancer/ISIC2018/data/test'"
   ]
  },
  {
   "cell_type": "code",
   "execution_count": 9,
   "id": "7c742797-6f41-4bd7-a7fd-645257a05f49",
   "metadata": {},
   "outputs": [
    {
     "name": "stdout",
     "output_type": "stream",
     "text": [
      "Found 2637 files belonging to 1 classes.\n",
      "Found 660 files belonging to 1 classes.\n"
     ]
    }
   ],
   "source": [
    "# Load image datasets\n",
    "train_ds = tf.keras.preprocessing.image_dataset_from_directory(train_ds, label_mode=None)\n",
    "test_ds = tf.keras.preprocessing.image_dataset_from_directory(test_ds, label_mode=None)"
   ]
  },
  {
   "cell_type": "code",
   "execution_count": 10,
   "id": "7ce678e3-97d8-44df-ab23-feca791ca424",
   "metadata": {},
   "outputs": [],
   "source": [
    "# Step 1: Image Resizing and Normalization\n",
    "def load_and_preprocess_image(image_path, target_size=(224, 224)):\n",
    "    \"\"\"Load and preprocess a single image.\"\"\"\n",
    "    img = cv2.imread(image_path)\n",
    "    img = cv2.cvtColor(img, cv2.COLOR_BGR2RGB)\n",
    "    img = cv2.resize(img, target_size)\n",
    "    img = img / 255.0  # Normalize to [0,1]\n",
    "    return img\n",
    "\n",
    "def prepare_dataset(image_paths, labels):\n",
    "    \"\"\"Prepare the entire dataset.\"\"\"\n",
    "    X = np.array([load_and_preprocess_image(path) for path in image_paths])\n",
    "    y = np.array(labels)\n",
    "    return X, y"
   ]
  },
  {
   "cell_type": "code",
   "execution_count": 11,
   "id": "7b2965e2-7ab0-4c33-84d4-d2149f187609",
   "metadata": {},
   "outputs": [],
   "source": [
    "# Step 2: Data Augmentation\n",
    "def create_data_generators():\n",
    "    \"\"\"Create training and validation data generators.\"\"\"\n",
    "    train_datagen = ImageDataGenerator(\n",
    "        rotation_range=20,\n",
    "        width_shift_range=0.2,\n",
    "        height_shift_range=0.2,\n",
    "        horizontal_flip=True,\n",
    "        vertical_flip=True,\n",
    "        fill_mode='nearest',\n",
    "        zoom_range=0.2,\n",
    "        shear_range=0.2\n",
    "    )\n",
    "    \n",
    "    valid_datagen = ImageDataGenerator()\n",
    "    \n",
    "    return train_datagen, valid_datagen"
   ]
  },
  {
   "cell_type": "code",
   "execution_count": 13,
   "id": "5c64bd81-aff4-400b-91aa-689b18354746",
   "metadata": {},
   "outputs": [],
   "source": [
    "#Step 3: Class Balancing\n",
    "def compute_class_weights(y_train):\n",
    "    \"\"\"Compute class weights for imbalanced dataset.\"\"\"\n",
    "    class_weights = compute_class_weight(\n",
    "        class_weight='balanced',\n",
    "        classes=np.unique(y_train),\n",
    "        y=y_train\n",
    "    )\n",
    "    return dict(enumerate(class_weights))"
   ]
  },
  {
   "cell_type": "code",
   "execution_count": 14,
   "id": "dff5d23e-a241-4a05-9aff-6dc9e70d0fb5",
   "metadata": {},
   "outputs": [],
   "source": [
    "# Step 4: Feature Extraction and Model Selection\n",
    "def create_model(num_classes):\n",
    "    \"\"\"Create and compile the model.\"\"\"\n",
    "    # Load pre-trained EfficientNetB3\n",
    "    base_model = EfficientNetB3(\n",
    "        weights='imagenet',\n",
    "        include_top=False,\n",
    "        input_shape=(224, 224, 3)\n",
    "    )"
   ]
  },
  {
   "cell_type": "code",
   "execution_count": 16,
   "id": "80d50e34-1173-40cc-9040-3be7a9cec820",
   "metadata": {},
   "outputs": [
    {
     "ename": "IndentationError",
     "evalue": "unexpected indent (4207993671.py, line 2)",
     "output_type": "error",
     "traceback": [
      "\u001b[1;36m  Cell \u001b[1;32mIn[16], line 2\u001b[1;36m\u001b[0m\n\u001b[1;33m    base_model.trainable = False\u001b[0m\n\u001b[1;37m    ^\u001b[0m\n\u001b[1;31mIndentationError\u001b[0m\u001b[1;31m:\u001b[0m unexpected indent\n"
     ]
    }
   ],
   "source": [
    "# Freeze the base model\n",
    "    base_model.trainable = False"
   ]
  },
  {
   "cell_type": "code",
   "execution_count": 17,
   "id": "43d20088-22e4-4578-a786-53bf59b6e213",
   "metadata": {},
   "outputs": [
    {
     "ename": "IndentationError",
     "evalue": "unexpected indent (1982184696.py, line 2)",
     "output_type": "error",
     "traceback": [
      "\u001b[1;36m  Cell \u001b[1;32mIn[17], line 2\u001b[1;36m\u001b[0m\n\u001b[1;33m    x = base_model.output\u001b[0m\n\u001b[1;37m    ^\u001b[0m\n\u001b[1;31mIndentationError\u001b[0m\u001b[1;31m:\u001b[0m unexpected indent\n"
     ]
    }
   ],
   "source": [
    "# Add custom layers\n",
    "    x = base_model.output\n",
    "    x = GlobalAveragePooling2D()(x)\n",
    "    x = Dense(512, activation='relu')(x)\n",
    "    x = Dropout(0.5)(x)\n",
    "    x = Dense(256, activation='relu')(x)\n",
    "    x = Dropout(0.3)(x)\n",
    "    predictions = Dense(num_classes, activation='softmax')(x)\n",
    "    \n",
    "    model = Model(inputs=base_model.input, outputs=predictions)\n",
    "    \n",
    "    return model, base_model"
   ]
  },
  {
   "cell_type": "code",
   "execution_count": 18,
   "id": "93d2ee1a-3c69-412a-8190-105abb316440",
   "metadata": {},
   "outputs": [],
   "source": [
    "# Step 5: Model Training\n",
    "def train_model(model, X_train, y_train, X_val, y_val, class_weights):\n",
    "    \"\"\"Train the model with early stopping and learning rate reduction.\"\"\"\n",
    "    # Callbacks\n",
    "    early_stopping = EarlyStopping(\n",
    "        monitor='val_loss',\n",
    "        patience=10,\n",
    "        restore_best_weights=True\n",
    "    )\n",
    "    \n",
    "    reduce_lr = ReduceLROnPlateau(\n",
    "        monitor='val_loss',\n",
    "        factor=0.2,\n",
    "        patience=5,\n",
    "        min_lr=1e-6\n",
    "    )\n",
    "    \n",
    "    # Compile model\n",
    "    model.compile(\n",
    "        optimizer=Adam(learning_rate=1e-4),\n",
    "        loss='sparse_categorical_crossentropy',\n",
    "        metrics=['accuracy']\n",
    "    )\n",
    "    \n",
    "    # Train model\n",
    "    history = model.fit(\n",
    "        X_train, y_train,\n",
    "        validation_data=(X_val, y_val),\n",
    "        epochs=50,\n",
    "        batch_size=32,\n",
    "        class_weight=class_weights,\n",
    "        callbacks=[early_stopping, reduce_lr]\n",
    "    )\n",
    "    \n",
    "    return history"
   ]
  },
  {
   "cell_type": "code",
   "execution_count": 19,
   "id": "8e220aba-120a-46ab-97f9-6892d1624b00",
   "metadata": {},
   "outputs": [],
   "source": [
    "# Step 6: Model Evaluation and Validation\n",
    "def evaluate_model(model, X_test, y_test):\n",
    "    \"\"\"Evaluate the model and print metrics.\"\"\"\n",
    "    # Predictions\n",
    "    y_pred = model.predict(X_test)\n",
    "    y_pred_classes = np.argmax(y_pred, axis=1)\n",
    "    \n",
    "    # Calculate metrics\n",
    "    test_loss, test_accuracy = model.evaluate(X_test, y_test)\n",
    "    \n",
    "    return test_loss, test_accuracy, y_pred, y_pred_classes"
   ]
  },
  {
   "cell_type": "code",
   "execution_count": 20,
   "id": "3f32b223-54b2-43ec-9c61-aef19dda1313",
   "metadata": {},
   "outputs": [],
   "source": [
    "# Step 7: Model Interpretation (Grad-CAM)\n",
    "def generate_gradcam(model, img, layer_name):\n",
    "    \"\"\"Generate Grad-CAM visualization for a given image.\"\"\"\n",
    "    grad_model = tf.keras.models.Model(\n",
    "        [model.inputs], \n",
    "        [model.get_layer(layer_name).output, model.output]\n",
    "    )\n",
    "    \n",
    "    with tf.GradientTape() as tape:\n",
    "        conv_outputs, predictions = grad_model(np.array([img]))\n",
    "        class_idx = np.argmax(predictions[0])\n",
    "        loss = predictions[:, class_idx]"
   ]
  },
  {
   "cell_type": "code",
   "execution_count": 21,
   "id": "8448e111-a706-437a-8016-da83d9c3a55b",
   "metadata": {},
   "outputs": [
    {
     "ename": "IndentationError",
     "evalue": "unexpected indent (1834119023.py, line 2)",
     "output_type": "error",
     "traceback": [
      "\u001b[1;36m  Cell \u001b[1;32mIn[21], line 2\u001b[1;36m\u001b[0m\n\u001b[1;33m    grads = tape.gradient(loss, conv_outputs)\u001b[0m\n\u001b[1;37m    ^\u001b[0m\n\u001b[1;31mIndentationError\u001b[0m\u001b[1;31m:\u001b[0m unexpected indent\n"
     ]
    }
   ],
   "source": [
    "# Get gradients\n",
    "    grads = tape.gradient(loss, conv_outputs)\n",
    "    pooled_grads = K.mean(grads, axis=(0, 1, 2))"
   ]
  },
  {
   "cell_type": "code",
   "execution_count": 22,
   "id": "62015f4d-88bc-451f-a75b-62371276dbe5",
   "metadata": {},
   "outputs": [
    {
     "ename": "IndentationError",
     "evalue": "unexpected indent (1851379998.py, line 2)",
     "output_type": "error",
     "traceback": [
      "\u001b[1;36m  Cell \u001b[1;32mIn[22], line 2\u001b[1;36m\u001b[0m\n\u001b[1;33m    heatmap = tf.reduce_mean(tf.multiply(pooled_grads, conv_outputs), axis=-1)\u001b[0m\n\u001b[1;37m    ^\u001b[0m\n\u001b[1;31mIndentationError\u001b[0m\u001b[1;31m:\u001b[0m unexpected indent\n"
     ]
    }
   ],
   "source": [
    "# Weight and average feature maps\n",
    "    heatmap = tf.reduce_mean(tf.multiply(pooled_grads, conv_outputs), axis=-1)\n",
    "    heatmap = tf.maximum(heatmap, 0) / tf.math.reduce_max(heatmap)\n",
    "    heatmap = heatmap.numpy()\n",
    "    \n",
    "    # Resize and overlay heatmap\n",
    "    heatmap = cv2.resize(heatmap, (img.shape[1], img.shape[0]))\n",
    "    heatmap = np.uint8(255 * heatmap)\n",
    "    heatmap = cv2.applyColorMap(heatmap, cv2.COLORMAP_JET)\n",
    "    \n",
    "    superimposed_img = cv2.addWeighted(\n",
    "        cv2.cvtColor(np.uint8(img * 255), cv2.COLOR_RGB2BGR),\n",
    "        0.6,\n",
    "        heatmap,\n",
    "        0.4,\n",
    "        0\n",
    "    )"
   ]
  },
  {
   "cell_type": "code",
   "execution_count": null,
   "id": "0c779ac7-2433-477d-8c93-b73323e06e49",
   "metadata": {},
   "outputs": [],
   "source": []
  }
 ],
 "metadata": {
  "kernelspec": {
   "display_name": "Python 3 (ipykernel)",
   "language": "python",
   "name": "python3"
  },
  "language_info": {
   "codemirror_mode": {
    "name": "ipython",
    "version": 3
   },
   "file_extension": ".py",
   "mimetype": "text/x-python",
   "name": "python",
   "nbconvert_exporter": "python",
   "pygments_lexer": "ipython3",
   "version": "3.8.6"
  }
 },
 "nbformat": 4,
 "nbformat_minor": 5
}
